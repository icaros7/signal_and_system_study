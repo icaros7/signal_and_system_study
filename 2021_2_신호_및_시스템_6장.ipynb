{
  "nbformat": 4,
  "nbformat_minor": 0,
  "metadata": {
    "colab": {
      "name": "2021-2_신호_및_시스템_6장.ipynb",
      "provenance": [],
      "collapsed_sections": [],
      "mount_file_id": "1dW3335qs5MzqWjN-DWvdwdPvwMayk36M",
      "authorship_tag": "ABX9TyPoJWJqoYgQ3XTakFfv0V0o",
      "include_colab_link": true
    },
    "kernelspec": {
      "name": "python3",
      "display_name": "Python 3"
    },
    "language_info": {
      "name": "python"
    }
  },
  "cells": [
    {
      "cell_type": "markdown",
      "metadata": {
        "id": "view-in-github",
        "colab_type": "text"
      },
      "source": [
        "<a href=\"https://colab.research.google.com/github/icaros7/signal_and_system_study/blob/main/2021_2_%EC%8B%A0%ED%98%B8_%EB%B0%8F_%EC%8B%9C%EC%8A%A4%ED%85%9C_6%EC%9E%A5.ipynb\" target=\"_parent\"><img src=\"https://colab.research.google.com/assets/colab-badge.svg\" alt=\"Open In Colab\"/></a>"
      ]
    },
    {
      "cell_type": "code",
      "metadata": {
        "colab": {
          "base_uri": "https://localhost:8080/",
          "height": 436
        },
        "id": "xmIYQ6Nl_OIe",
        "outputId": "7be21134-d3b2-4d63-8065-d2805655ddf2"
      },
      "source": [
        "# 문제: P6.21\n",
        "# 학번: 201735030\n",
        "# 이름: 이호민\n",
        "\n",
        "import numpy as np\n",
        "import matplotlib.pyplot as plt\n",
        "\n",
        "# 이산시간 신호의 생성과 플롯\n",
        "n = np.arange(-5,12) # 신호 생성\n",
        "\n",
        "# 각 신호 정의\n",
        "x_1 = lambda n:((n == 0) * (n == np.round(n)).astype(float)) + \\\n",
        "      ((n == 2) * 2 * (n == np.round(n)).astype(float))\n",
        "x_2 = lambda n:(n >= 0) * (n == np.round(n)).astype(float) - \\\n",
        "      (n >= 5) * (n == np.round(n)).astype(float)\n",
        "x_3 = ((0.8) ** n) * ((n > 0) * (n == np.round(n)).astype(float) - \\\n",
        "      (n >= 10) * (n == np.round(n)).astype(float))\n",
        "\n",
        "# 플롯 생성\n",
        "fig, axes = plt.subplots(2, 2, figsize = (9,6.5))\n",
        "fig.delaxes(axes[0,1])\n",
        "axes[0,0].stem(n, x_1(n), basefmt = '', use_line_collection = True)\n",
        "axes[0,0].set(title = '$x_1[n] = \\delta[n] - 2\\delta[n - 2])$')\n",
        "axes[1,0].stem(n, x_2(n), basefmt = '', use_line_collection = True)\n",
        "axes[1,0].set(title = '$x_2[n] = u[n] - u[n - 5]$')\n",
        "axes[1,1].stem(n, x_3, basefmt = '', use_line_collection = True)\n",
        "axes[1,1].set(title = '$x_3[n] = (0.8)^n(u[n] - u[n - 10])$')"
      ],
      "execution_count": null,
      "outputs": [
        {
          "output_type": "execute_result",
          "data": {
            "text/plain": [
              "[Text(0.5, 1.0, '$x_3[n] = (0.8)^n(u[n] - u[n - 10])$')]"
            ]
          },
          "metadata": {},
          "execution_count": 1
        },
        {
          "output_type": "display_data",
          "data": {
            "image/png": "[encoded data removed]",
            "text/plain": [
              "<Figure size 648x468 with 3 Axes>"
            ]
          },
          "metadata": {
            "needs_background": "light"
          }
        }
      ]
    },
    {
      "cell_type": "code",
      "metadata": {
        "colab": {
          "base_uri": "https://localhost:8080/",
          "height": 337
        },
        "id": "aoLj0eoOCKkF",
        "outputId": "c19e61d8-1dcf-4dfd-bad8-fb5832d85ef6"
      },
      "source": [
        "# 문제: P6.22\n",
        "# 학번: 201735030\n",
        "# 이름: 이호민\n",
        "\n",
        "x = lambda n: (1 * ((n >= 0) & (n < 5))) + (0 * ((n >= 5) & (n < 10))) # 신호 정의\n",
        "n = np.arange(-10,20) # 시간 변수 정의\n",
        "\n",
        "# 플롯\n",
        "fig, ax = plt.subplots(figsize = (5,5))\n",
        "ax.stem(n, x(n), basefmt = '', use_line_collection = True)"
      ],
      "execution_count": null,
      "outputs": [
        {
          "output_type": "execute_result",
          "data": {
            "text/plain": [
              "<StemContainer object of 3 artists>"
            ]
          },
          "metadata": {},
          "execution_count": 2
        },
        {
          "output_type": "display_data",
          "data": {
            "image/png": "[encoded data removed]",
            "text/plain": [
              "<Figure size 360x360 with 1 Axes>"
            ]
          },
          "metadata": {
            "needs_background": "light"
          }
        }
      ]
    },
    {
      "cell_type": "markdown",
      "metadata": {
        "id": "vqF3D9K1OzNi"
      },
      "source": [
        "\\# 문제: P6.23a   \n",
        "\\# 학번: 201735030   \n",
        "\\# 이름: 이호민   \n",
        "\n",
        "**P6.23** 다음 신호에 대하여 다음에 답하여라\n",
        "$$x[n] = sin(\\pi n / 4) sin(3 \\pi n / 8)$$\n",
        "   \n",
        "(a) 신호가 주기 신호인가? 주기 신호라면 주기는 얼마인가?   \n",
        "주기 신호이다. 주기는 16 이다.\n",
        "\n"
      ]
    },
    {
      "cell_type": "code",
      "metadata": {
        "colab": {
          "base_uri": "https://localhost:8080/",
          "height": 300
        },
        "id": "hNdd9z55Ouu4",
        "outputId": "c01b3b54-86c5-472b-98fd-4620f6f570c3"
      },
      "source": [
        "# 문제: P6.23b\n",
        "# 학번: 201735030\n",
        "# 이름: 이호민\n",
        "\n",
        "x = np.sin(np.pi * n / 4) * np.sin(3 * np.pi * n / 8) # 신호 정의\n",
        "n = np.arange(0, 30+1) # 시간 신호 정의\n",
        "\n",
        "# 플롯\n",
        "fig, ax = plt.subplots()\n",
        "ax.stem(n, x, basefmt = '', use_line_collection = True)\n",
        "ax.set(title = '$x[n] = sin(\\pi n / 4) sin(3 \\pi n / 8)$')"
      ],
      "execution_count": null,
      "outputs": [
        {
          "output_type": "execute_result",
          "data": {
            "text/plain": [
              "[Text(0.5, 1.0, '$x[n] = sin(\\\\pi n / 4) sin(3 \\\\pi n / 8)$')]"
            ]
          },
          "metadata": {},
          "execution_count": 4
        },
        {
          "output_type": "display_data",
          "data": {
            "image/png": "[encoded data removed]",
            "text/plain": [
              "<Figure size 432x288 with 1 Axes>"
            ]
          },
          "metadata": {
            "needs_background": "light"
          }
        }
      ]
    },
    {
      "cell_type": "code",
      "metadata": {
        "colab": {
          "base_uri": "https://localhost:8080/",
          "height": 452
        },
        "id": "rXid04lVY4_Y",
        "outputId": "84d6de8e-c56c-45b3-dd7a-324e766436cf"
      },
      "source": [
        "# 문제: P6.24a\n",
        "# 학번: 201735030\n",
        "# 이름: 이호민\n",
        "\n",
        "x = lambda n: (0 * ((n <= -4) & (n >= 4))).astype(float) + (-1/2 * ((n == -3) | (n == -1))).astype(float) +\\\n",
        "    (-1 * (n == -2)).astype(float) + (1 * ((n >= 0) & (n < 3))).astype(float) + (1/2 * (n == 3)) # 신호 정의\n",
        "n = np.arange(-6, 6) # 시간 신호 정의\n",
        "xeven = 0.5 * (x(n) + x(-n)) # 우대칭 신호 정의\n",
        "xodd = 0.5 * (x(n) - x(-n)) # 기대칭 신호 정의\n",
        "\n",
        "# 플롯\n",
        "fig, axes = plt.subplots(2, 2, figsize = (10, 6.8))\n",
        "fig.delaxes(axes[0,1])\n",
        "axes[0,0].stem(n, x(n), basefmt = '', use_line_collection = True)\n",
        "axes[0,0].set(title = '$x[n]$')\n",
        "axes[1,0].stem(n, xeven, basefmt = '', use_line_collection = True)\n",
        "axes[1,0].set(title = '$x_e[n]$')\n",
        "axes[1,1].stem(n, xodd, basefmt = '', use_line_collection = True)\n",
        "axes[1,1].set(title = '$x_o[n]$')"
      ],
      "execution_count": null,
      "outputs": [
        {
          "output_type": "execute_result",
          "data": {
            "text/plain": [
              "[Text(0.5, 1.0, '$x_o[n]$')]"
            ]
          },
          "metadata": {},
          "execution_count": 5
        },
        {
          "output_type": "display_data",
          "data": {
            "image/png": "[encoded data removed]",
            "text/plain": [
              "<Figure size 720x489.6 with 3 Axes>"
            ]
          },
          "metadata": {
            "needs_background": "light"
          }
        }
      ]
    },
    {
      "cell_type": "code",
      "metadata": {
        "colab": {
          "base_uri": "https://localhost:8080/",
          "height": 458
        },
        "id": "FygoI1xSdefY",
        "outputId": "7dc5dac4-5428-4483-9555-a947ea91d2c3"
      },
      "source": [
        "# 문제: P6.24b\n",
        "# 학번: 201735030\n",
        "# 이름: 이호민\n",
        "\n",
        "x_2 = xeven + xodd # 특성을 만족하는 신호 정의\n",
        "\n",
        "# 플롯\n",
        "fig, axes = plt.subplots(2, figsize = (5, 6.9))\n",
        "axes[0].stem(n, x(n), basefmt = '', use_line_collection = True)\n",
        "axes[0].set(title = '$x[n]$')\n",
        "axes[1].stem(n, x_2, basefmt = '', use_line_collection = True)\n",
        "axes[1].set(title = '$x_e[n] + x_o[n]$')"
      ],
      "execution_count": null,
      "outputs": [
        {
          "output_type": "execute_result",
          "data": {
            "text/plain": [
              "[Text(0.5, 1.0, '$x_e[n] + x_o[n]$')]"
            ]
          },
          "metadata": {},
          "execution_count": 6
        },
        {
          "output_type": "display_data",
          "data": {
            "image/png": "[encoded data removed]",
            "text/plain": [
              "<Figure size 360x496.8 with 2 Axes>"
            ]
          },
          "metadata": {
            "needs_background": "light"
          }
        }
      ]
    },
    {
      "cell_type": "code",
      "metadata": {
        "colab": {
          "base_uri": "https://localhost:8080/"
        },
        "id": "MGCzTnN9h9ex",
        "outputId": "34e2b250-85b7-46d8-d724-5c04ac8eb981"
      },
      "source": [
        "# 문제: P6.25\n",
        "# 학번: 201735030\n",
        "# 이름: 이호민\n",
        "\n",
        "from sympy import *\n",
        "\n",
        "def sumAverage(x, N): # 평균 전력 계산 함수\n",
        "  n = symbols('n', integer = True, positive = True)\n",
        "  Pavg = summation(x ** 2, [n, 0, N-1]) / N\n",
        "  return Pavg\n",
        "\n",
        "def sumSeq(x): # 에너지 계산 함수\n",
        "  n = symbols('n', integer = True, positive = True)\n",
        "  Ex = summation(x ** 2, [n, 0, 99])\n",
        "  return Ex\n",
        "\n",
        "# 각 신호 정의\n",
        "a = 2 * cos(3 * np.pi * n / 4) + 3 * sin(2 * np.pi * n / 5)\n",
        "b = cos(2 * np.pi * n / 6) * sin(2 * np.pi * n / 7)\n",
        "c = cos(2 * n * np.pi / 6) + cos(3 * n * np.pi / 5)\n",
        "d = 10 * (0.5 ** n)\n",
        "e = (0.5 ** n) * cos(3 * np.pi * n / 4)\n",
        "\n",
        "# 신호 별 계산\n",
        "print('a의 평균 전력:', f'{sumAverage(a, 5):.2f}')\n",
        "print('b의 평균 전력:', f'{sumAverage(b, 56):.2f}')\n",
        "print('c의 평균 전력:', f'{sumAverage(c, 30):.1f}')\n",
        "print('d의 에너지:', f'{sumSeq(d):.3f}')\n",
        "print('e의 에너지:', f'{sumSeq(e):.4f}')"
      ],
      "execution_count": 176,
      "outputs": [
        {
          "output_type": "stream",
          "name": "stdout",
          "text": [
            "a의 평균 전력: 6.57\n",
            "b의 평균 전력: 0.25\n",
            "c의 평균 전력: 1.0\n",
            "d의 에너지: 133.333\n",
            "e의 에너지: 1.1373\n"
          ]
        }
      ]
    },
    {
      "cell_type": "code",
      "metadata": {
        "colab": {
          "base_uri": "https://localhost:8080/",
          "height": 911
        },
        "id": "o88tXFJNq0tS",
        "outputId": "c05cd42a-203f-4fa5-a147-9a381a898230"
      },
      "source": [
        "# 문제: P6.26\n",
        "# 학번: 201735030\n",
        "# 이름: 이호민\n",
        "\n",
        "from IPython.display import Audio, display\n",
        "\n",
        "fs = 8000\n",
        "\n",
        "def getF_r(number):\n",
        "  \"\"\"\n",
        "  각 입력한 number에 맞는 f_r 값을 반환 합니다.\n",
        "\n",
        "  Parameter:\n",
        "    number: 입력한 전화번호의 번호\n",
        "  \n",
        "  Return: 각 번호 별 $f_r$ 값\n",
        "  \"\"\"\n",
        "  n1 = ['1', '2', '3']\n",
        "  n2 = ['4', '5', '6']\n",
        "  n3 = ['7', '8', '9']\n",
        "  n4 = ['*', '0', '#']\n",
        "\n",
        "  if (number in n1):\n",
        "    return 697\n",
        "  elif (number in n2):\n",
        "    return 770\n",
        "  elif (number in n3):\n",
        "    return 852\n",
        "  else:\n",
        "    return 941\n",
        "\n",
        "def getF_c(number):\n",
        "  \"\"\"\n",
        "  각 입력한 number에 맞는 f_c 값을 반환 합니다.\n",
        "  \n",
        "  Parameter:\n",
        "    number: 입력한 전화번호의 번호\n",
        "  \n",
        "  Return:\n",
        "  Return: 각 번호 별 $f_c$ 값\n",
        "  \"\"\"\n",
        "  n1 = ['1', '4', '7', '*']\n",
        "  n2 = ['2', '5', '8', '0']\n",
        "  n3 = ['3', '6', '9', '#']\n",
        "\n",
        "  if (number in n1):\n",
        "    return 1209\n",
        "  elif (number in n2):\n",
        "    return 1336\n",
        "  else:\n",
        "    return 1477\n",
        "\n",
        "def dtmf_signal_gen(digit, Td = 200, Tp = 50):\n",
        "  \"\"\"\n",
        "  generate DTMF tone for a single digit while a digit is pressed\n",
        "\n",
        "  Parameters:\n",
        "    digit: digit of phone number pressed\n",
        "    Td: duration while digit is pressed\n",
        "    Tp: pause duration between consecutive digit\n",
        "    tone: tone signal generated\n",
        "  \"\"\"\n",
        "  T = 0.1\n",
        "  t = np.arange(0,T, 1/Td)\n",
        "  n = np.arange(0,T, 1/fs)\n",
        "  f_r = getF_r(digit)\n",
        "  f_c = getF_c(digit)\n",
        "  tone = np.sin(2 * np.pi * f_r * t) + np.sin(2 * np.pi * f_c * t)\n",
        "\n",
        "  return tone\n",
        "\n",
        "num = ['0', '1', '2', '3', '4', '5', '6', '7', '8', '9', '*', '#']\n",
        "\n",
        "for i in num:\n",
        "  print('{}의 dtmf tone:'.format(i))\n",
        "  dtmf_tone = dtmf_signal_gen(i)\n",
        "  display(Audio(data=dtmf_tone, rate=fs))"
      ],
      "execution_count": 203,
      "outputs": [
        {
          "output_type": "stream",
          "name": "stdout",
          "text": [
            "0의 dtmf tone:\n"
          ]
        },
        {
          "output_type": "display_data",
          "data": {
            "text/html": [
              "\n",
              "                <audio controls=\"controls\" >\n",
              "                    <source src=\"data:audio/wav;base64,UklGRkwAAABXQVZFZm10IBAAAAABAAEAQB8AAIA+AAACABAAZGF0YSgAAAAAAH+Bmli4PQGAQR33Y1+htuSHZnTUtsQiSh0BD8a2ITEUpuChBOUI\" type=\"audio/wav\" />\n",
              "                    Your browser does not support the audio element.\n",
              "                </audio>\n",
              "              "
            ],
            "text/plain": [
              "<IPython.lib.display.Audio object>"
            ]
          },
          "metadata": {}
        },
        {
          "output_type": "stream",
          "name": "stdout",
          "text": [
            "1의 dtmf tone:\n"
          ]
        },
        {
          "output_type": "display_data",
          "data": {
            "text/html": [
              "\n",
              "                <audio controls=\"controls\" >\n",
              "                    <source src=\"data:audio/wav;base64,UklGRkwAAABXQVZFZm10IBAAAAABAAEAQB8AAIA+AAACABAAZGF0YSgAAAAAAB0YhRaDQrAiLl19He5ijgXQVK/fqTlytekbSJI/BgGAQQDIgwEM\" type=\"audio/wav\" />\n",
              "                    Your browser does not support the audio element.\n",
              "                </audio>\n",
              "              "
            ],
            "text/plain": [
              "<IPython.lib.display.Audio object>"
            ]
          },
          "metadata": {}
        },
        {
          "output_type": "stream",
          "name": "stdout",
          "text": [
            "2의 dtmf tone:\n"
          ]
        },
        {
          "output_type": "display_data",
          "data": {
            "text/html": [
              "\n",
              "                <audio controls=\"controls\" >\n",
              "                    <source src=\"data:audio/wav;base64,UklGRkwAAABXQVZFZm10IBAAAAABAAEAQB8AAIA+AAACABAAZGF0YSgAAAAAAHrKfybWItmmx0Rv/JTmHeu3Xs2LGUEC/F8GyLf/f+uQryljAJ8g\" type=\"audio/wav\" />\n",
              "                    Your browser does not support the audio element.\n",
              "                </audio>\n",
              "              "
            ],
            "text/plain": [
              "<IPython.lib.display.Audio object>"
            ]
          },
          "metadata": {}
        },
        {
          "output_type": "stream",
          "name": "stdout",
          "text": [
            "3의 dtmf tone:\n"
          ]
        },
        {
          "output_type": "display_data",
          "data": {
            "text/html": [
              "\n",
              "                <audio controls=\"controls\" >\n",
              "                    <source src=\"data:audio/wav;base64,UklGRkwAAABXQVZFZm10IBAAAAABAAEAQB8AAIA+AAACABAAZGF0YSgAAAAAAA8zR7DCSk/WAACgGtXpS/JyQaOSeH2TlLdBnukAAJ31szAqoP9/\" type=\"audio/wav\" />\n",
              "                    Your browser does not support the audio element.\n",
              "                </audio>\n",
              "              "
            ],
            "text/plain": [
              "<IPython.lib.display.Audio object>"
            ]
          },
          "metadata": {}
        },
        {
          "output_type": "stream",
          "name": "stdout",
          "text": [
            "4의 dtmf tone:\n"
          ]
        },
        {
          "output_type": "display_data",
          "data": {
            "text/html": [
              "\n",
              "                <audio controls=\"controls\" >\n",
              "                    <source src=\"data:audio/wav;base64,UklGRkwAAABXQVZFZm10IBAAAAABAAEAQB8AAIA+AAACABAAZGF0YSgAAAAAAN/dQ+VnHB1g/3+8ZTMnYPQa8OYTHjY6LR/zNqs7huaay9NeATYB\" type=\"audio/wav\" />\n",
              "                    Your browser does not support the audio element.\n",
              "                </audio>\n",
              "              "
            ],
            "text/plain": [
              "<IPython.lib.display.Audio object>"
            ]
          },
          "metadata": {}
        },
        {
          "output_type": "stream",
          "name": "stdout",
          "text": [
            "5의 dtmf tone:\n"
          ]
        },
        {
          "output_type": "display_data",
          "data": {
            "text/html": [
              "\n",
              "                <audio controls=\"controls\" >\n",
              "                    <source src=\"data:audio/wav;base64,UklGRkwAAABXQVZFZm10IBAAAAABAAEAQB8AAIA+AAACABAAZGF0YSgAAAAAAHSPJfQK/BjmRWg8RiuqudnU94zBWz3nddncLNHK/HOsH/z/f30V\" type=\"audio/wav\" />\n",
              "                    Your browser does not support the audio element.\n",
              "                </audio>\n",
              "              "
            ],
            "text/plain": [
              "<IPython.lib.display.Audio object>"
            ]
          },
          "metadata": {}
        },
        {
          "output_type": "stream",
          "name": "stdout",
          "text": [
            "6의 dtmf tone:\n"
          ]
        },
        {
          "output_type": "display_data",
          "data": {
            "text/html": [
              "\n",
              "                <audio controls=\"controls\" >\n",
              "                    <source src=\"data:audio/wav;base64,UklGRkwAAABXQVZFZm10IBAAAAABAAEAQB8AAIA+AAACABAAZGF0YSgAAAAAAH7234JcIdUVKCO4YYSvyOH02ejLNHQpEesVMgMBgIUQ7gHTITFv\" type=\"audio/wav\" />\n",
              "                    Your browser does not support the audio element.\n",
              "                </audio>\n",
              "              "
            ],
            "text/plain": [
              "<IPython.lib.display.Audio object>"
            ]
          },
          "metadata": {}
        },
        {
          "output_type": "stream",
          "name": "stdout",
          "text": [
            "7의 dtmf tone:\n"
          ]
        },
        {
          "output_type": "display_data",
          "data": {
            "text/html": [
              "\n",
              "                <audio controls=\"controls\" >\n",
              "                    <source src=\"data:audio/wav;base64,UklGRkwAAABXQVZFZm10IBAAAAABAAEAQB8AAIA+AAACABAAZGF0YSgAAAAAAE9UGRus8CdM/38yKdoArFLZXJntNc/GHJYLAp1fnuX2Fd7ihoiz\" type=\"audio/wav\" />\n",
              "                    Your browser does not support the audio element.\n",
              "                </audio>\n",
              "              "
            ],
            "text/plain": [
              "<IPython.lib.display.Audio object>"
            ]
          },
          "metadata": {}
        },
        {
          "output_type": "stream",
          "name": "stdout",
          "text": [
            "8의 dtmf tone:\n"
          ]
        },
        {
          "output_type": "display_data",
          "data": {
            "text/html": [
              "\n",
              "                <audio controls=\"controls\" >\n",
              "                    <source src=\"data:audio/wav;base64,UklGRkwAAABXQVZFZm10IBAAAAABAAEAQB8AAIA+AAACABAAZGF0YSgAAAAAAEQGZSuozqjOgmekBwGAKjnXZn6Ym9TXZkH1vsNvGL8KpAdEBtbG\" type=\"audio/wav\" />\n",
              "                    Your browser does not support the audio element.\n",
              "                </audio>\n",
              "              "
            ],
            "text/plain": [
              "<IPython.lib.display.Audio object>"
            ]
          },
          "metadata": {}
        },
        {
          "output_type": "stream",
          "name": "stdout",
          "text": [
            "9의 dtmf tone:\n"
          ]
        },
        {
          "output_type": "display_data",
          "data": {
            "text/html": [
              "\n",
              "                <audio controls=\"controls\" >\n",
              "                    <source src=\"data:audio/wav;base64,UklGRkwAAABXQVZFZm10IBAAAAABAAEAQB8AAIA+AAACABAAZGF0YSgAAAAAABJzgrI99QAAeCLzJgGA0UKuSSOfmw8AAKYxxva/khp1Dw66ox0m\" type=\"audio/wav\" />\n",
              "                    Your browser does not support the audio element.\n",
              "                </audio>\n",
              "              "
            ],
            "text/plain": [
              "<IPython.lib.display.Audio object>"
            ]
          },
          "metadata": {}
        },
        {
          "output_type": "stream",
          "name": "stdout",
          "text": [
            "*의 dtmf tone:\n"
          ]
        },
        {
          "output_type": "display_data",
          "data": {
            "text/html": [
              "\n",
              "                <audio controls=\"controls\" >\n",
              "                    <source src=\"data:audio/wav;base64,UklGRkwAAABXQVZFZm10IBAAAAABAAEAQB8AAIA+AAACABAAZGF0YSgAAAAAAA7UIEULWwAAnzX/f5UhAACcWd4njsEAAK8W9aE+qQAAtrkMiJH0\" type=\"audio/wav\" />\n",
              "                    Your browser does not support the audio element.\n",
              "                </audio>\n",
              "              "
            ],
            "text/plain": [
              "<IPython.lib.display.Audio object>"
            ]
          },
          "metadata": {}
        },
        {
          "output_type": "stream",
          "name": "stdout",
          "text": [
            "#의 dtmf tone:\n"
          ]
        },
        {
          "output_type": "display_data",
          "data": {
            "text/html": [
              "\n",
              "                <audio controls=\"controls\" >\n",
              "                    <source src=\"data:audio/wav;base64,UklGRkwAAABXQVZFZm10IBAAAAABAAEAQB8AAIA+AAACABAAZGF0YSgAAAAAABfsneEgYy6zWdf/f+SmxeycRbTevf/54mo76Pn9n6Z5J+e5pfBl\" type=\"audio/wav\" />\n",
              "                    Your browser does not support the audio element.\n",
              "                </audio>\n",
              "              "
            ],
            "text/plain": [
              "<IPython.lib.display.Audio object>"
            ]
          },
          "metadata": {}
        }
      ]
    }
  ]
}